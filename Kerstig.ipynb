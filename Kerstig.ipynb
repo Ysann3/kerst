{
 "cells": [
  {
   "cell_type": "code",
   "execution_count": 121,
   "metadata": {},
   "outputs": [],
   "source": [
    "import copy\n",
    "import glob\n",
    "from PIL import ImageFont, Image, ImageDraw\n",
    "\n",
    "# filepath\n",
    "fp_in = r\"C:\\kerst\\*.png\"\n",
    "\n",
    "img, *imgs = [Image.open(f) for f in sorted(glob.glob(fp_in))]\n",
    "a, *b = [Image.open(f) for f in sorted(glob.glob(fp_in))]\n"
   ]
  },
  {
   "cell_type": "code",
   "execution_count": 122,
   "metadata": {},
   "outputs": [],
   "source": [
    "title_font = ImageFont.truetype(\"COOPBL.TTF\", 70)\n",
    "TXT = ['Ho', 'Ho','Ho','Let','IT', 'snow!']\n",
    "images = [b[0], b[1]]\n",
    "\n",
    "\n",
    "for i in range(0, len(imgs), 1):\n",
    "    #I = Image.open(imgs[i]).convert(\"RGB\")\n",
    "    I = imgs[i]\n",
    "    D = ImageDraw.Draw(I)\n",
    "    T = TXT[0:i+1]\n",
    "    #y = range(40,41*(i+1),40)  \n",
    "    y = [300, 300, 300, 400, 400, 400]\n",
    "    x = [50,150, 250, 50, 180, 260]\n",
    "    j = len(T)-1\n",
    "    while j>-1:\n",
    "        D.text((x[j],y[j]), T[j], (255,0,0), font=title_font)\n",
    "        j=j-1\n",
    "    images.append(I)\n",
    "           \n",
    "#images[0].save(r\"C:\\kerst\\kerst_output\\c2.gif\", save_all=True, append_images=images[1:], optimize=False, duration=300 , loop=1)\n"
   ]
  },
  {
   "cell_type": "code",
   "execution_count": 123,
   "metadata": {},
   "outputs": [
    {
     "name": "stdout",
     "output_type": "stream",
     "text": [
      "1\n",
      "<PIL.Image.Image image mode=RGB size=1280x720 at 0x149C9019438>\n",
      "3\n",
      "<PIL.Image.Image image mode=RGB size=1280x720 at 0x149D39BD908>\n",
      "5\n",
      "<PIL.Image.Image image mode=RGB size=1280x720 at 0x149D39BD080>\n",
      "7\n",
      "<PIL.Image.Image image mode=RGB size=1280x720 at 0x149D39BD668>\n",
      "9\n",
      "<PIL.Image.Image image mode=RGB size=1280x720 at 0x149C902EAC8>\n",
      "11\n",
      "<PIL.Image.Image image mode=RGB size=1280x720 at 0x149C902EBA8>\n",
      "13\n",
      "<PIL.Image.Image image mode=RGB size=1280x720 at 0x149C902EBE0>\n",
      "15\n",
      "<PIL.Image.Image image mode=RGB size=1280x720 at 0x149C902ECF8>\n",
      "17\n",
      "<PIL.Image.Image image mode=RGB size=1280x720 at 0x149CD296DD8>\n"
     ]
    }
   ],
   "source": [
    "test = []\n",
    "#testimgs = imgs\n",
    "testimgs = images\n",
    "lijst = [0, 0, 1, 1, 2, 2, 3, 3, 4, 4, 5, 5, 6, 6, 7, 7, 8, 8, 9, 9]\n",
    "for i in range(9):\n",
    "    test.append(copy.copy(testimgs[i]))\n",
    "\n",
    "for k in range(1, len(test)*2, 2):\n",
    "    print(k)\n",
    "    testimgs.insert(k, test[lijst[k]])\n",
    "    print(test[lijst[k]])\n",
    "    \n",
    "images = testimgs\n",
    "\n",
    "height = 720\n",
    "width = 1280\n",
    "center_x = (width // 2)-40 \n",
    "center_y = height // 2\n",
    "color_1 = (0, 0, 0)\n",
    "color_2 = (255, 255, 255)\n",
    "max_radius = int(center_x * 1.5)\n",
    "step = 40\n",
    "\n",
    "for i in range(0, max_radius, step):\n",
    "    #im = Image.new('RGB', (width, height), (255, 0, 255))\n",
    "    im = Image.open(r\"C:\\kerst\\slide_l.png\").convert(\"RGB\")\n",
    "    draw = ImageDraw.Draw(im)\n",
    "    draw.ellipse((center_x - i, center_y - i, center_x + i, center_y + i), fill=color_2, outline = 0)\n",
    "    images.append(im)\n",
    "\n",
    "    \n",
    "#images[0].save(r\"C:\\kerst\\kerst_output\\cirkel.gif\", save_all=True, append_images=images[1:], optimize=False, duration=300 , loop=1)\n"
   ]
  },
  {
   "cell_type": "code",
   "execution_count": 124,
   "metadata": {},
   "outputs": [],
   "source": [
    "#images=[]\n",
    "texts = [\"Lieve Marijke,\", \"Fijne kerst\", \"en een\", \"gelukkig\", \"nieuwjaar\", \"Liefs,\" ,\"Ysanne & Nicole\"]\n",
    "title_font = ImageFont.truetype(\"COOPBL.TTF\", 50)\n",
    "\n",
    "\n",
    "for i in range(0,7,1): \n",
    "    imT = Image.open(r\"C:\\kerst\\kerst_output\\wine_bg.png\").convert(\"RGB\")\n",
    "    image_editable = ImageDraw.Draw(imT)\n",
    "    text = texts[0:i+1]\n",
    "    y = range(70,71*(i+1),70)  \n",
    "    j = len(text)-1\n",
    "    while j>-1:\n",
    "        image_editable.text((100,y[j]), text[j], (218,165,32), font=title_font)\n",
    "        j=j-1\n",
    "    images.append(imT)\n",
    "\n",
    "images[0].save(r\"C:\\kerst\\kerst_output\\Tloop.gif\", save_all=True, append_images=images[1:], optimize=False, duration=150 , loop=1)"
   ]
  }
 ],
 "metadata": {
  "kernelspec": {
   "display_name": "Python 3",
   "language": "python",
   "name": "python3"
  },
  "language_info": {
   "codemirror_mode": {
    "name": "ipython",
    "version": 3
   },
   "file_extension": ".py",
   "mimetype": "text/x-python",
   "name": "python",
   "nbconvert_exporter": "python",
   "pygments_lexer": "ipython3",
   "version": "3.6.7"
  }
 },
 "nbformat": 4,
 "nbformat_minor": 2
}
